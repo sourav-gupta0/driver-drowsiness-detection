{
 "cells": [
  {
   "cell_type": "code",
   "execution_count": null,
   "id": "325d3c79",
   "metadata": {},
   "outputs": [],
   "source": [
    "import cv2\n",
    "def predict_image(img_path):\n",
    "    # Load the image\n",
    "    img = cv2.imread(img_path)\n",
    "    # Handle the case where the image isn't loaded correctly\n",
    "    if img is None:\n",
    "        print(\"Failed to load image\")\n",
    "        return\n",
    "    # Process the image for prediction\n",
    "    processed_img = cv2.resize(img, (64, 64))\n",
    "    processed_img = cv2.cvtColor(processed_img, cv2.COLOR_BGR2GRAY)\n",
    "    processed_img = processed_img / 255.0\n",
    "    processed_img = processed_img.reshape(-1, 64, 64, 1)\n",
    "    # Predict\n",
    "    pred = loaded_model_fit.predict(processed_img)\n",
    "    prediction_label = \"Drowsy\" if pred[0][0] > 0.5 else \"Non-Drowsy\"  \n",
    "    # Display the image using matplotlib\n",
    "    plt.imshow(cv2.cvtColor(img, cv2.COLOR_BGR2RGB))\n",
    "    plt.title(prediction_label)\n",
    "    plt.axis('off')\n",
    "    plt.show()\n",
    "    return prediction_label\n",
    "# Test with an image\n",
    "img_path = \"image.jpg\" #put the image path here.\n",
    "print(predict_image(img_path))"
   ]
  }
 ],
 "metadata": {
  "kernelspec": {
   "display_name": "Python 3 (ipykernel)",
   "language": "python",
   "name": "python3"
  },
  "language_info": {
   "codemirror_mode": {
    "name": "ipython",
    "version": 3
   },
   "file_extension": ".py",
   "mimetype": "text/x-python",
   "name": "python",
   "nbconvert_exporter": "python",
   "pygments_lexer": "ipython3",
   "version": "3.11.3"
  }
 },
 "nbformat": 4,
 "nbformat_minor": 5
}
