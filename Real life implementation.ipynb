{
 "cells": [
  {
   "cell_type": "code",
   "execution_count": null,
   "id": "d7be4f47",
   "metadata": {},
   "outputs": [],
   "source": [
    "import time\n",
    "def predict_frame(frame):\n",
    "    # Convert the frame to grayscale\n",
    "    gray_frame = cv2.cvtColor(frame, cv2.COLOR_BGR2GRAY)  \n",
    "    # Resize the frame while maintaining its aspect ratio\n",
    "    height, width = gray_frame.shape\n",
    "    aspect_ratio = width / height\n",
    "    new_width = 64\n",
    "    new_height = int(new_width / aspect_ratio)\n",
    "    resized_frame = cv2.resize(gray_frame, (new_width, new_height))    \n",
    "    # Further resize to 64x64\n",
    "    processed_frame = cv2.resize(resized_frame, (64, 64))   \n",
    "    # Normalize the frame\n",
    "    processed_frame = processed_frame / 255.0\n",
    "    processed_frame = processed_frame.reshape(-1, 64, 64, 1)\n",
    "    # Predict\n",
    "    pred = loaded_model_fit.predict(processed_frame)\n",
    "    prediction_label = \"Drowsy\" if pred[0][0] > 0.5 else \"Non-Drowsy\"    \n",
    "    # Display the frame with the prediction label\n",
    "    cv2.putText(frame, prediction_label, (10, 50), cv2.FONT_HERSHEY_SIMPLEX, 1, (0, 255, 0), 2, cv2.LINE_AA)\n",
    "    cv2.imshow(\"Drowsiness Detection\", frame)\n",
    "    return prediction_label\n",
    "# Start webcam\n",
    "cap = cv2.VideoCapture(0)  # 0 is for default webcam\n",
    "time.sleep(2)\n",
    "if not cap.isOpened():\n",
    "    print(\"Error: Couldn't open the camera.\")\n",
    "else:\n",
    "    print(\"Camera is opened.\")\n",
    "while True:\n",
    "    # Capture frame from webcam\n",
    "    ret, frame = cap.read()\n",
    "    # Check if frame captured successfully\n",
    "    if not ret:\n",
    "        print(\"Error: Frame not captured.\")\n",
    "        break\n",
    "    # Make prediction on the current frame\n",
    "    label = predict_frame(frame)        \n",
    "    # Break loop if 'q' is pressed\n",
    "    if cv2.waitKey(1) & 0xFF == ord('q'):\n",
    "        break\n",
    "# Release the webcam and close all windows\n",
    "cap.release()\n",
    "cv2.destroyAllWindows()"
   ]
  }
 ],
 "metadata": {
  "kernelspec": {
   "display_name": "Python 3 (ipykernel)",
   "language": "python",
   "name": "python3"
  },
  "language_info": {
   "codemirror_mode": {
    "name": "ipython",
    "version": 3
   },
   "file_extension": ".py",
   "mimetype": "text/x-python",
   "name": "python",
   "nbconvert_exporter": "python",
   "pygments_lexer": "ipython3",
   "version": "3.11.3"
  }
 },
 "nbformat": 4,
 "nbformat_minor": 5
}
