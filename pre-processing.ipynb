{
 "cells": [
  {
   "cell_type": "markdown",
   "id": "807b2b75",
   "metadata": {},
   "source": [
    "# Loading images and folder for preprocessing"
   ]
  },
  {
   "cell_type": "code",
   "execution_count": null,
   "id": "711417c2",
   "metadata": {},
   "outputs": [],
   "source": [
    "import os\n",
    "import cv2\n",
    "import dlib\n",
    "import numpy as np\n",
    "def load_images_from_folder(folder):\n",
    "    images = []\n",
    "    for filename in os.listdir(folder):\n",
    "        img = cv2.imread(os.path.join(folder, filename), cv2.IMREAD_GRAYSCALE)\n",
    "        if img is not None:\n",
    "            img = cv2.resize(img, (64, 64))  # Resize\n",
    "            images.append(img)\n",
    "    return images\n",
    "# Load images from drowsy and non-drowsy folders\n",
    "drowsy_images = load_images_from_folder(\"dataset/archive/Drowsy/\")\n",
    "non_drowsy_images = load_images_from_folder(\"dataset/archive/Non Drowsy/\")\n",
    "# Combine the lists\n",
    "preprocessed_images = drowsy_images + non_drowsy_images"
   ]
  },
  {
   "cell_type": "markdown",
   "id": "ab135309",
   "metadata": {},
   "source": [
    "# Loading pre-trained Facial-Detector Model"
   ]
  },
  {
   "cell_type": "code",
   "execution_count": null,
   "id": "8e1212a0",
   "metadata": {},
   "outputs": [],
   "source": [
    "predictor_path = \"shape_predictor_68_face_landmarks.dat\"\n",
    "detector = dlib.get_frontal_face_detector()\n",
    "predictor = dlib.shape_predictor(predictor_path)"
   ]
  },
  {
   "cell_type": "markdown",
   "id": "18b41d92",
   "metadata": {},
   "source": [
    "# Pre-Processing"
   ]
  },
  {
   "cell_type": "code",
   "execution_count": null,
   "id": "4c175f14",
   "metadata": {},
   "outputs": [],
   "source": [
    "import os\n",
    "import cv2\n",
    "import dlib\n",
    "import numpy as np\n",
    "# Define function to get coordinates of eyes from facial landmarks\n",
    "def get_eye_landmarks(shape):\n",
    "    # The dlib facial landmarks detector returns 68 points, the coordinates for left eye are 36 to 41 inclusive\n",
    "    left_eye = shape[36:42]\n",
    "    # Coordinates for the right eye are 42 to 47 inclusive\n",
    "    right_eye = shape[42:48]\n",
    "    return left_eye, right_eye\n",
    "# Define function to calculate Eye Aspect Ratio (EAR)\n",
    "def calculate_ear(eye):\n",
    "    A = np.linalg.norm(eye[1] - eye[5])\n",
    "    B = np.linalg.norm(eye[2] - eye[4])\n",
    "    C = np.linalg.norm(eye[0] - eye[3])\n",
    "    ear = (A + B) / (2.0 * C)\n",
    "    return ear\n",
    "# Load dlib's pre-trained facial landmark detector\n",
    "predictor_path = \"shape_predictor_68_face_landmarks.dat\"\n",
    "detector = dlib.get_frontal_face_detector()\n",
    "predictor = dlib.shape_predictor(predictor_path)\n",
    "# Load and preprocess images\n",
    "drowsy_folder = \"dataset/archive/Drowsy/\"\n",
    "non_drowsy_folder = \"dataset/archive/Non Drowsy/\"\n",
    "folders = [drowsy_folder, non_drowsy_folder]\n",
    "preprocessed_images = []\n",
    "ear_values = []\n",
    "for folder in folders:\n",
    "    for filename in os.listdir(folder):\n",
    "        img = cv2.imread(os.path.join(folder, filename), cv2.IMREAD_GRAYSCALE)\n",
    "        if img is not None:\n",
    "            img = cv2.resize(img, (64, 64))  # Resize\n",
    "            faces = detector(img, 1)\n",
    "            \n",
    "            for face in faces:\n",
    "                shape = predictor(img, face)\n",
    "                landmarks = np.array([[p.x, p.y] for p in shape.parts()])\n",
    "                # Get eye landmarks and calculate EAR\n",
    "                left_eye, right_eye = get_eye_landmarks(landmarks)\n",
    "                ear_left = calculate_ear(left_eye)\n",
    "                ear_right = calculate_ear(right_eye)\n",
    "                ear_avg = (ear_left + ear_right) / 2.0    \n",
    "                preprocessed_images.append(img)\n",
    "                ear_values.append(ear_avg)"
   ]
  }
 ],
 "metadata": {
  "kernelspec": {
   "display_name": "Python 3 (ipykernel)",
   "language": "python",
   "name": "python3"
  },
  "language_info": {
   "codemirror_mode": {
    "name": "ipython",
    "version": 3
   },
   "file_extension": ".py",
   "mimetype": "text/x-python",
   "name": "python",
   "nbconvert_exporter": "python",
   "pygments_lexer": "ipython3",
   "version": "3.11.3"
  }
 },
 "nbformat": 4,
 "nbformat_minor": 5
}
