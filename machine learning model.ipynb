{
 "cells": [
  {
   "cell_type": "markdown",
   "id": "7f5ccd3f",
   "metadata": {},
   "source": [
    "# labelling"
   ]
  },
  {
   "cell_type": "code",
   "execution_count": null,
   "id": "a933ad46",
   "metadata": {},
   "outputs": [],
   "source": [
    "y_drowsy = np.ones(len(drowsy_images))  # 1 for drowsy\n",
    "y_non_drowsy = np.zeros(len(non_drowsy_images))  # 0 for non-drowsy\n",
    "y = np.hstack((y_drowsy, y_non_drowsy)) "
   ]
  },
  {
   "cell_type": "markdown",
   "id": "151f2414",
   "metadata": {},
   "source": [
    "# Splitting the model in train and test"
   ]
  },
  {
   "cell_type": "code",
   "execution_count": null,
   "id": "5f7509ee",
   "metadata": {},
   "outputs": [],
   "source": [
    "X_SVM = np.array(ear_values).reshape(-1, 1)  # Features\n",
    "y_SVM = np.array(labels)  # Labels\n",
    "X_train_SVM, X_test_SVM, y_train_SVM, y_test_SVM = train_test_split(X_SVM, y_SVM, test_size=0.3, random_state=42)  # 70% training and 30% testing"
   ]
  },
  {
   "cell_type": "markdown",
   "id": "a357931f",
   "metadata": {},
   "source": [
    "# Training the model"
   ]
  },
  {
   "cell_type": "code",
   "execution_count": null,
   "id": "b510351b",
   "metadata": {},
   "outputs": [],
   "source": [
    "# Create a SVC classifier\n",
    "clf = SVC(kernel='linear') \n",
    "clf.fit(X_train_SVM, y_train_SVM)\n",
    "y_pred_SVM = clf.predict(X_test_SVM)\n",
    "print(classification_report(y_test_SVM, y_pred_SVM))"
   ]
  }
 ],
 "metadata": {
  "kernelspec": {
   "display_name": "Python 3 (ipykernel)",
   "language": "python",
   "name": "python3"
  },
  "language_info": {
   "codemirror_mode": {
    "name": "ipython",
    "version": 3
   },
   "file_extension": ".py",
   "mimetype": "text/x-python",
   "name": "python",
   "nbconvert_exporter": "python",
   "pygments_lexer": "ipython3",
   "version": "3.11.3"
  }
 },
 "nbformat": 4,
 "nbformat_minor": 5
}
