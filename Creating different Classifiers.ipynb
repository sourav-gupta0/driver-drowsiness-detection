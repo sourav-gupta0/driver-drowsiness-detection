{
 "cells": [
  {
   "cell_type": "markdown",
   "id": "10721944",
   "metadata": {},
   "source": [
    "# Hyper- parameter tunning"
   ]
  },
  {
   "cell_type": "code",
   "execution_count": null,
   "id": "16049811",
   "metadata": {},
   "outputs": [],
   "source": [
    "# Define the parameter grid\n",
    "param_grid = {\n",
    "    'C': [0.1, 1, 10, 100],\n",
    "    'gamma': [1, 0.1, 0.01, 0.001],\n",
    "    'kernel': ['linear', 'rbf']\n",
    "}\n",
    "# Create a SVC classifier\n",
    "clf = SVC()\n",
    "grid = GridSearchCV(clf, param_grid, refit=True, verbose=2)\n",
    "grid.fit(X_train_SVM, y_train_SVM)\n",
    "# Print the best parameters\n",
    "print(grid.best_params_)\n",
    "# Predict the response for the test dataset\n",
    "y_pred_SVM = grid.predict(X_test_SVM)\n",
    "print(classification_report(y_test_SVM, y_pred_SVM))"
   ]
  },
  {
   "cell_type": "markdown",
   "id": "594db0c7",
   "metadata": {},
   "source": [
    "# Random Forest Classifier"
   ]
  },
  {
   "cell_type": "code",
   "execution_count": null,
   "id": "56eec73d",
   "metadata": {},
   "outputs": [],
   "source": [
    "# Create a Random Forest Classifier\n",
    "clf = RandomForestClassifier(n_estimators=100)\n",
    "clf.fit(X_train_SVM, y_train_SVM)\n",
    "y_pred_SVM = clf.predict(X_test_SVM)\n",
    "print(classification_report(y_test_SVM, y_pred_SVM))"
   ]
  },
  {
   "cell_type": "markdown",
   "id": "42e911b8",
   "metadata": {},
   "source": [
    "# XGBoost"
   ]
  },
  {
   "cell_type": "code",
   "execution_count": null,
   "id": "dba85a22",
   "metadata": {},
   "outputs": [],
   "source": [
    "# Creat a XGBoost Classifier\n",
    "clf = xgb.XGBClassifier()\n",
    "clf.fit(X_train_SVM, y_train_SVM)\n",
    "y_pred_SVM = clf.predict(X_test_SVM)\n",
    "print(classification_report(y_test_SVM, y_pred_SVM))"
   ]
  }
 ],
 "metadata": {
  "kernelspec": {
   "display_name": "Python 3 (ipykernel)",
   "language": "python",
   "name": "python3"
  },
  "language_info": {
   "codemirror_mode": {
    "name": "ipython",
    "version": 3
   },
   "file_extension": ".py",
   "mimetype": "text/x-python",
   "name": "python",
   "nbconvert_exporter": "python",
   "pygments_lexer": "ipython3",
   "version": "3.11.3"
  }
 },
 "nbformat": 4,
 "nbformat_minor": 5
}
