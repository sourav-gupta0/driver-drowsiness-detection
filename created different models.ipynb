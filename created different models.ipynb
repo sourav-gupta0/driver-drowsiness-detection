{
 "cells": [
  {
   "cell_type": "markdown",
   "id": "73b41907",
   "metadata": {},
   "source": [
    "# Created Different Models and which different epochs and different roatation level to see which one fir well. All these models are saved with different names in this repository with the file type of .h5. "
   ]
  },
  {
   "cell_type": "code",
   "execution_count": null,
   "id": "5d1da0f6",
   "metadata": {},
   "outputs": [],
   "source": [
    "# Assuming `preprocessed_images` is your list of images and `labels` is your list of labels\n",
    "preprocessed_images = np.array(preprocessed_images)\n",
    "labels = np.array(labels)\n",
    "# Normalize the images to be between 0 and 1\n",
    "preprocessed_images = preprocessed_images / 255.0\n",
    "# Reshape the images to fit the model\n",
    "preprocessed_images = preprocessed_images.reshape(-1, 64, 64, 1)\n",
    "# Split the dataset into training and testing sets\n",
    "X_train10_l30, X_test10_l30, y_train10_l30, y_test10_l30 = train_test_split(preprocessed_images, labels, test_size=0.2, random_state=42)\n",
    "# Define data generator for data augmentation\n",
    "datagen10_l30 = ImageDataGenerator(\n",
    "    rotation_range=30,\n",
    "    width_shift_range=0.3,\n",
    "    height_shift_range=0.3,\n",
    "    horizontal_flip=True)\n",
    "# Fit the data generator to your training data\n",
    "datagen10_l30.fit(X_train10_l30)\n",
    "# Create a Sequential model\n",
    "model10_l30 = Sequential()\n",
    "model10_l30.add(Conv2D(32, kernel_size=(3, 3), activation='relu', input_shape=(64, 64, 1)))\n",
    "model10_l30.add(Conv2D(64, (3, 3), activation='relu'))\n",
    "model10_l30.add(MaxPooling2D(pool_size=(2, 2)))\n",
    "model10_l30.add(Dropout(0.25))\n",
    "model10_l30.add(Flatten())\n",
    "model10_l30.add(Dense(128, activation='relu'))\n",
    "model10_l30.add(Dropout(0.5))\n",
    "model10_l30.add(Dense(1, activation='sigmoid'))\n",
    "# Use Adam optimizer with a lower learning rate\n",
    "opt = Adam(learning_rate=0.0001)\n",
    "# Compile the model\n",
    "model10_l30.compile(loss='binary_crossentropy', optimizer=opt, metrics=['accuracy'])\n",
    "# Train the model using data augmentation generator\n",
    "model10_l30.fit(datagen10_l30.flow(X_train10_l30, y_train10_l30, batch_size=32),\n",
    "          steps_per_epoch=len(X_train10_l30) / 32, epochs=10,\n",
    "          validation_data=(X_test10_l30, y_test10_l30))\n",
    "# Save the model\n",
    "model10_l30.save(\"drowsiness_detection_model10_l30.h5\")\n",
    "print(\"Saved model to disk\")\n",
    "# load model\n",
    "model10_l30 = load_model('drowsiness_detection_model10_l30.h5')\n",
    "# evaluate loaded model on test data\n",
    "score = model10_l30.evaluate(X_test10_l30, y_test10_l30, verbose=0)\n",
    "print(\"%s: %.2f%%\" % (model10_l30.metrics_names[1], score[1]*100))"
   ]
  }
 ],
 "metadata": {
  "kernelspec": {
   "display_name": "Python 3 (ipykernel)",
   "language": "python",
   "name": "python3"
  },
  "language_info": {
   "codemirror_mode": {
    "name": "ipython",
    "version": 3
   },
   "file_extension": ".py",
   "mimetype": "text/x-python",
   "name": "python",
   "nbconvert_exporter": "python",
   "pygments_lexer": "ipython3",
   "version": "3.11.3"
  }
 },
 "nbformat": 4,
 "nbformat_minor": 5
}
