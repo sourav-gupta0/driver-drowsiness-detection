{
 "cells": [
  {
   "cell_type": "code",
   "execution_count": null,
   "id": "21930455",
   "metadata": {},
   "outputs": [],
   "source": [
    "## Function to get the eye landmarks\n",
    "def get_eye_landmarks(shape):\n",
    "    left_eye = shape[36:42]  # Points related to the left eye\n",
    "    right_eye = shape[42:48]  # Points related to the right eye\n",
    "    return np.array(left_eye), np.array(right_eye)\n",
    "# Process each preprocessed image\n",
    "for i, img in enumerate(preprocessed_images):\n",
    "    print(f\"Processing image {i+1}...\")\n",
    "    faces = detector(img, 1)\n",
    "    if len(faces) > 0:\n",
    "        print(f\"Found {len(faces)} face(s) in image {i+1}.\")\n",
    "        for face in faces:\n",
    "            shape = predictor(img, face)\n",
    "            landmarks = np.matrix([[p.x, p.y] for p in shape.parts()])\n",
    "            # Get the eye landmarks\n",
    "            left_eye_landmarks, right_eye_landmarks = get_eye_landmarks(landmarks)\n",
    "           # Visualize the eye landmarks on the image\n",
    "            img_copy = img.copy()\n",
    "            for (x, y) in left_eye_landmarks:\n",
    "                cv2.circle(img_copy, (x, y), 1, (0, 255, 0), -1)\n",
    "            for (x, y) in right_eye_landmarks:\n",
    "                cv2.circle(img_copy, (x, y), 1, (0, 255, 0), -1)               \n",
    "            #Display the image\n",
    "            plt.imshow(img_copy)\n",
    "            plt.show()\n",
    "    else:\n",
    "        print(f\"No face detected in image {i+1}.\")"
   ]
  }
 ],
 "metadata": {
  "kernelspec": {
   "display_name": "Python 3 (ipykernel)",
   "language": "python",
   "name": "python3"
  },
  "language_info": {
   "codemirror_mode": {
    "name": "ipython",
    "version": 3
   },
   "file_extension": ".py",
   "mimetype": "text/x-python",
   "name": "python",
   "nbconvert_exporter": "python",
   "pygments_lexer": "ipython3",
   "version": "3.11.3"
  }
 },
 "nbformat": 4,
 "nbformat_minor": 5
}
