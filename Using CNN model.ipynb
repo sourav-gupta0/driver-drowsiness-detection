{
 "cells": [
  {
   "cell_type": "code",
   "execution_count": null,
   "id": "a1de5458",
   "metadata": {},
   "outputs": [],
   "source": [
    "def load_images_from_folder(folder, label):\n",
    "    images = []\n",
    "    labels = []\n",
    "    for filename in os.listdir(folder):\n",
    "        img = cv2.imread(os.path.join(folder, filename), cv2.IMREAD_GRAYSCALE)\n",
    "        if img is not None:\n",
    "            img = cv2.resize(img, (64, 64))  # Resize\n",
    "            images.append(img)\n",
    "            labels.append(label)\n",
    "    return images, labels\n",
    "\n",
    "# Load images from drowsy and non-drowsy folders\n",
    "drowsy_images, drowsy_labels = load_images_from_folder(\"dataset/archive/Drowsy/\", 1)\n",
    "non_drowsy_images, non_drowsy_labels = load_images_from_folder(\"dataset/archive/Non Drowsy/\", 0)\n",
    "\n",
    "# Combine the lists\n",
    "preprocessed_images = drowsy_images + non_drowsy_images\n",
    "labels = drowsy_labels + non_drowsy_labels"
   ]
  },
  {
   "cell_type": "code",
   "execution_count": null,
   "id": "b4f95763",
   "metadata": {},
   "outputs": [],
   "source": [
    "print(len(preprocessed_images))\n",
    "print(len(labels))"
   ]
  }
 ],
 "metadata": {
  "kernelspec": {
   "display_name": "Python 3 (ipykernel)",
   "language": "python",
   "name": "python3"
  },
  "language_info": {
   "codemirror_mode": {
    "name": "ipython",
    "version": 3
   },
   "file_extension": ".py",
   "mimetype": "text/x-python",
   "name": "python",
   "nbconvert_exporter": "python",
   "pygments_lexer": "ipython3",
   "version": "3.11.3"
  }
 },
 "nbformat": 4,
 "nbformat_minor": 5
}
