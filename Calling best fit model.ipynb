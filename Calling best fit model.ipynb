{
 "cells": [
  {
   "cell_type": "markdown",
   "id": "b47b70f5",
   "metadata": {},
   "source": [
    "# Calling Model saved to disk"
   ]
  },
  {
   "cell_type": "code",
   "execution_count": null,
   "id": "a21be2d4",
   "metadata": {},
   "outputs": [],
   "source": [
    "import numpy as np\n",
    "# Load the saved model\n",
    "loaded_model_fit = load_model('drowsiness_detection_model_fit.h5')\n",
    "# Load the data\n",
    "X_test = np.load('X_test.npy')\n",
    "y_test = np.load('y_test.npy')\n",
    "history = np.load('history.npy', allow_pickle=True).item()"
   ]
  },
  {
   "cell_type": "markdown",
   "id": "dfcacf23",
   "metadata": {},
   "source": [
    "# Evaluation"
   ]
  },
  {
   "cell_type": "code",
   "execution_count": null,
   "id": "65c54f62",
   "metadata": {},
   "outputs": [],
   "source": [
    "# Evaluate the model\n",
    "loss, accuracy = loaded_model_fit.evaluate(X_test, y_test)\n",
    "print(f\"Test Loss: {loss:.4f}\")\n",
    "print(f\"Test Accuracy: {accuracy*100:.2f}%\")"
   ]
  }
 ],
 "metadata": {
  "kernelspec": {
   "display_name": "Python 3 (ipykernel)",
   "language": "python",
   "name": "python3"
  },
  "language_info": {
   "codemirror_mode": {
    "name": "ipython",
    "version": 3
   },
   "file_extension": ".py",
   "mimetype": "text/x-python",
   "name": "python",
   "nbconvert_exporter": "python",
   "pygments_lexer": "ipython3",
   "version": "3.11.3"
  }
 },
 "nbformat": 4,
 "nbformat_minor": 5
}
