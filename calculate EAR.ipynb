{
 "cells": [
  {
   "cell_type": "code",
   "execution_count": null,
   "id": "fceff4d4",
   "metadata": {},
   "outputs": [],
   "source": [
    "def shape_to_np(shape, dtype=\"int\"):\n",
    "    coords = np.zeros((68, 2), dtype=dtype)\n",
    "    for i in range(0, 68):\n",
    "        coords[i] = (shape.part(i).x, shape.part(i).y)\n",
    "    return coords\n",
    "# Function to calculate Eye Aspect Ratio (EAR)\n",
    "def calculate_ear(eye):\n",
    "    A = np.linalg.norm(eye[1] - eye[5])\n",
    "    B = np.linalg.norm(eye[2] - eye[4])\n",
    "    C = np.linalg.norm(eye[0] - eye[3])\n",
    "    ear = (A + B) / (2.0 * C)\n",
    "    return ear\n",
    "# Lists to store EAR values and labels\n",
    "ear_values = []\n",
    "labels = []\n",
    "# Process each image separately, first drowsy then non-drowsy\n",
    "for images, label in [(drowsy_images, 1), (non_drowsy_images, 0)]:\n",
    "    for i, img in enumerate(images):\n",
    "        print(f\"Processing image {i+1}...\")\n",
    "        faces = detector(img, 1)\n",
    "        if len(faces) > 0:\n",
    "            print(f\"Found {len(faces)} face(s) in image {i+1}.\")\n",
    "            for face in faces:\n",
    "                shape = predictor(img, face)\n",
    "                shape = shape_to_np(shape)\n",
    "                # Get the eye landmarks\n",
    "                left_eye_landmarks, right_eye_landmarks = shape[36:42], shape[42:48]\n",
    "                # Calculate EAR for each eye\n",
    "                left_ear = calculate_ear(left_eye_landmarks)\n",
    "                right_ear = calculate_ear(right_eye_landmarks)\n",
    "                # Take average of EAR from both eyes\n",
    "                ear = (left_ear + right_ear) / 2.0\n",
    "                ear_values.append(ear)           \n",
    "                # Assign the corresponding label\n",
    "                labels.append(label)\n",
    "                # Visualize the eye landmarks on the image\n",
    "                img_copy = img.copy()\n",
    "                for (x, y) in left_eye_landmarks:\n",
    "                    cv2.circle(img_copy, (x, y), 1, (0, 255, 0), -1)\n",
    "                for (x, y) in right_eye_landmarks:\n",
    "                    cv2.circle(img_copy, (x, y), 1, (0, 255, 0), -1)\n",
    "            # Display the image along with the EAR\n",
    "            plt.figure()\n",
    "            plt.imshow(img_copy, cmap='gray')\n",
    "            plt.title(f\"Image {i+1} - EAR: {ear:.2f}\")\n",
    "            plt.show()\n",
    "        else:\n",
    "            print(f\"No face detected in image {i+1}. Skipping this image.\")        \n",
    "print(\"EAR values and corresponding labels extracted for the dataset.\")"
   ]
  }
 ],
 "metadata": {
  "kernelspec": {
   "display_name": "Python 3 (ipykernel)",
   "language": "python",
   "name": "python3"
  },
  "language_info": {
   "codemirror_mode": {
    "name": "ipython",
    "version": 3
   },
   "file_extension": ".py",
   "mimetype": "text/x-python",
   "name": "python",
   "nbconvert_exporter": "python",
   "pygments_lexer": "ipython3",
   "version": "3.11.3"
  }
 },
 "nbformat": 4,
 "nbformat_minor": 5
}
